{
 "cells": [
  {
   "cell_type": "code",
   "execution_count": 2,
   "metadata": {},
   "outputs": [],
   "source": [
    "import pandas as pd"
   ]
  },
  {
   "cell_type": "code",
   "execution_count": 3,
   "metadata": {},
   "outputs": [],
   "source": [
    "# Cargamos los archivos parquet\n",
    "df1 = pd.read_parquet('consulta1.parquet')\n",
    "games = pd.read_parquet('games.parquet')\n",
    "reviews = pd.read_parquet('reviews.parquet')\n",
    "items = pd.read_parquet('items.parquet')\n"
   ]
  },
  {
   "cell_type": "code",
   "execution_count": 4,
   "metadata": {},
   "outputs": [],
   "source": [
    "#@app.get('/consulta1 - Developer', tags=['GET'])\n",
    "\n",
    "def developer(desarrollador):\n",
    "    \"\"\"Devuelve cantidad de items y porcentaje de contenido free por año según empresa desarrolladora\\n.\n",
    "    \"\"\"\n",
    "    \n",
    "    #filtrar juego por desarrollador\n",
    "    filter_games = df1[df1['developer'] == desarrollador]\n",
    "\n",
    "    # Agrupar por año de lanzamiento y calcular cantidad de items y juegos gratuitos\n",
    "    filter_games = filter_games.groupby('release_date').agg(total_items=('content_id', 'count'), free_game=('price', lambda x: (x == 0.0).sum())).reset_index()\n",
    "    \n",
    "    # Calcular el porcentaje de contenido gratuito\n",
    "    filter_games['Contenido Free'] = round((filter_games['free_game'] / filter_games['total_items']) * 100, 2)\n",
    "    \n",
    "    # Formatear los resultados\n",
    "    año = list(filter_games['release_date'])\n",
    "    cantidad_items = list(filter_games['total_items'])\n",
    "    cont_free = list(filter_games['Contenido Free'])\n",
    "    \n",
    "    # Retornar el resultado en el formato solicitado\n",
    "    return {'Año': año, 'Cantidad de items': cantidad_items, 'Contenido Free': cont_free}"
   ]
  },
  {
   "cell_type": "code",
   "execution_count": 5,
   "metadata": {},
   "outputs": [
    {
     "data": {
      "text/plain": [
       "{'Año': [2018], 'Cantidad de items': [1], 'Contenido Free': [0.0]}"
      ]
     },
     "execution_count": 5,
     "metadata": {},
     "output_type": "execute_result"
    }
   ],
   "source": [
    "developer('Kotoshiro')"
   ]
  },
  {
   "cell_type": "code",
   "execution_count": 13,
   "metadata": {},
   "outputs": [],
   "source": [
    "def userdata(User_id: str):\n",
    "    \"\"\"Devuelve la cantidad de dinero gastado por el usuario, el porcentaje de recomendación en base a reviews.recommend y cantidad de items\\n.\n",
    "    \"\"\"\n",
    "    # Selección de columnas\n",
    "    game = games[['content_id', 'price']]\n",
    "    \n",
    "    # Filtro por usuario\n",
    "    user = items[items['user_id'] == User_id]\n",
    "\n",
    "    if user.empty:\n",
    "        return {'Usuario': User_id, 'Dinero gastado': 0.0, 'Horas juego': 0, '% de recomendacion': 0.0}\n",
    "\n",
    "    # Calcular el porcentaje de recomendación\n",
    "    if reviews.empty:\n",
    "        recomend = 0.0\n",
    "    else:\n",
    "        recomend = round(reviews['review_pos'].sum() / (reviews['review_pos'].sum() + reviews['review_neg'].sum()) * 100, 2)\n",
    "\n",
    "    # Cantidad de juegos por usuario\n",
    "    cantidad_items = items[items['user_id'] == User_id]\n",
    "\n",
    "    # Unión de los datos\n",
    "    cantidad_items = cantidad_items.merge(game, left_on='item_id', right_on='content_id', how='inner')\n",
    "    if cantidad_items.empty:\n",
    "        return {'Usuario': User_id, 'Dinero gastado': 0.0, 'Horas juego': 0, '% de recomendacion': recomend}\n",
    "\n",
    "    cantidad_items = cantidad_items.groupby('user_id').agg({'playtime_forever': 'sum', 'price': 'sum'}).reset_index()\n",
    "\n",
    "    if cantidad_items.empty:\n",
    "        return {'Usuario': User_id, 'Dinero gastado': 0.0, 'Horas juego': 0, '% de recomendacion': recomend}\n",
    "\n",
    "    # Variables:\n",
    "    usuario = cantidad_items['user_id'].iloc[0]\n",
    "    tiempo = cantidad_items['playtime_forever'].iloc[0]\n",
    "    dinero = cantidad_items['price'].iloc[0]\n",
    "\n",
    "    return {'Usuario': usuario, 'Dinero gastado': round(dinero, 2), 'Horas juego': tiempo, '% de recomendacion': recomend}"
   ]
  },
  {
   "cell_type": "code",
   "execution_count": 17,
   "metadata": {},
   "outputs": [
    {
     "data": {
      "text/plain": [
       "{'Usuario': '76561198076909484',\n",
       " 'Dinero gastado': 374.93,\n",
       " 'Horas juego': 16649.0,\n",
       " '% de recomendacion': 82.51}"
      ]
     },
     "execution_count": 17,
     "metadata": {},
     "output_type": "execute_result"
    }
   ],
   "source": [
    "userdata('76561198076909484')"
   ]
  },
  {
   "cell_type": "code",
   "execution_count": null,
   "metadata": {},
   "outputs": [],
   "source": [
    "def UserForGenre( genero : str ): \n",
    "#Debe devolver el usuario que acumula más horas jugadas para el género dado \n",
    "#y una lista de la acumulación de horas jugadas por año de lanzamiento.\n",
    "\n",
    "Ejemplo de retorno: {\"Usuario con más horas jugadas para Género X\" : us213ndjss09sdf, \"Horas jugadas\":[{Año: 2013, Horas: 203}, {Año: 2012, Horas: 100}, {Año: 2011, Horas: 23}]}"
   ]
  },
  {
   "cell_type": "code",
   "execution_count": null,
   "metadata": {},
   "outputs": [],
   "source": [
    "def best_developer_year( año : int ):\n",
    "#Devuelve el top 3 de desarrolladores con juegos MÁS recomendados por usuarios\n",
    "#para el año dado. (reviews.recommend = True y comentarios positivos)\n",
    "\n",
    "Ejemplo de retorno: [{\"Puesto 1\" : X}, {\"Puesto 2\" : Y},{\"Puesto 3\" : Z}]"
   ]
  },
  {
   "cell_type": "code",
   "execution_count": null,
   "metadata": {},
   "outputs": [],
   "source": [
    "def developer_reviews_analysis( desarrolladora : str ): \n",
    "# Según el desarrollador, se devuelve un diccionario con \n",
    "#el nombre del desarrollador como llave y \n",
    "#una lista con la cantidad total de registros de reseñas de usuarios \n",
    "#que se encuentren categorizados con un análisis de sentimiento \n",
    "#como valor positivo o negativo.\n",
    "\n",
    "Ejemplo de retorno: {'Valve' : [Negative = 182, Positive = 278]}"
   ]
  }
 ],
 "metadata": {
  "kernelspec": {
   "display_name": "pi1_venv",
   "language": "python",
   "name": "python3"
  },
  "language_info": {
   "codemirror_mode": {
    "name": "ipython",
    "version": 3
   },
   "file_extension": ".py",
   "mimetype": "text/x-python",
   "name": "python",
   "nbconvert_exporter": "python",
   "pygments_lexer": "ipython3",
   "version": "3.12.3"
  }
 },
 "nbformat": 4,
 "nbformat_minor": 2
}
